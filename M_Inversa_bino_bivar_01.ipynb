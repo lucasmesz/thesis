{
 "cells": [
  {
   "cell_type": "code",
   "execution_count": 1,
   "metadata": {
    "collapsed": true
   },
   "outputs": [],
   "source": [
    "import numpy as np\n",
    "import pandas as pd\n",
    "import math\n",
    "import seaborn as sns\n",
    "import matplotlib.pyplot as plt\n",
    "\n",
    "%matplotlib inline"
   ]
  },
  {
   "cell_type": "code",
   "execution_count": 137,
   "metadata": {
    "collapsed": true
   },
   "outputs": [],
   "source": [
    "# Entrada\n",
    " \n",
    "r=0.065\n",
    "vol=0.3626 #volatilidade de preço por ano\n",
    "delta_t=1 #um ano\n",
    "u=math.exp(vol*math.sqrt(delta_t))  #subida de P\n",
    "d=1/u #define d como inverso de u\n",
    "s= 0.001 #sucesso de I\n",
    "ins=1/s #define insucesso como inverso do sucesso\n",
    "i=0\n",
    "#Matriz\n",
    "U=np.array([[math.pow(u,2),math.pow(u,2),1,1],[math.pow(s,2),1,math.pow(s,2),1],[math.pow(u,2),math.pow((u*s),2),1,math.pow(s,2)],[1,1,1,1]])\n",
    "\n",
    "#vetor A\n",
    "A=np.array([[u],[s],[(u*s)],[(1/(1+r))]])\n",
    "\n",
    "#DataFrame\n",
    "coluna=['u','d','s','i','phi_us','phi_ui','phi_ds','phi_di']\n",
    "df=pd.DataFrame(columns=coluna)\n",
    "#Inversão\n",
    "phi=np.linalg.solve(U,A)\n",
    "phi_us=phi[0,0]\n",
    "phi_ui=phi[1,0]\n",
    "phi_ds=phi[2,0]\n",
    "phi_di=phi[3,0]\n",
    "\n",
    "#while phi_u>0 and phi_d>0 and i<2000 : \n",
    "\n",
    "while  i<2000 : \n",
    "    ins=1/s\n",
    "    #\n",
    "    U=np.array([[math.pow(u,2),math.pow(u,2),1,1],[math.pow(s,2),1,math.pow(s,2),1],[math.pow(u,2),math.pow((u*s),2),1,math.pow(s,2)],[1,1,1,1]])\n",
    "    A=np.array([[u],[s],[(u*s)],[(1/(1+r))]])\n",
    "    phi=np.linalg.solve(U,A)\n",
    "    #\n",
    "    phi_us=phi[0,0]\n",
    "    phi_ui=phi[1,0]\n",
    "    phi_ds=phi[2,0]\n",
    "    phi_di=phi[3,0]\n",
    "    #\n",
    "    df.loc[i,'u']=u\n",
    "    df.loc[i,'d']=d\n",
    "    df.loc[i,'s']=s\n",
    "    df.loc[i,'i']=ins \n",
    "    df.loc[i,'phi_us']=phi_us\n",
    "    df.loc[i,'phi_ui']=phi_ui\n",
    "    df.loc[i,'phi_ds']=phi_ds\n",
    "    df.loc[i,'phi_di']=phi_di \n",
    "    \n",
    "    if (df.loc[i,'phi_us']<0) or (df.loc[i,'phi_ui']<0) or (df.loc[i,'phi_ds']<0) or (df.loc[i,'phi_di']<0) :\n",
    "        df.loc[i,'phi_us']=np.nan\n",
    "        df.loc[i,'phi_ui']=np.nan\n",
    "        df.loc[i,'phi_ds']=np.nan\n",
    "        df.loc[i,'phi_di']=np.nan\n",
    "            \n",
    "    i=i+1\n",
    "    s=s+0.01"
   ]
  },
  {
   "cell_type": "code",
   "execution_count": null,
   "metadata": {
    "collapsed": true
   },
   "outputs": [],
   "source": []
  },
  {
   "cell_type": "code",
   "execution_count": 139,
   "metadata": {},
   "outputs": [
    {
     "data": {
      "text/html": [
       "<div>\n",
       "<style>\n",
       "    .dataframe thead tr:only-child th {\n",
       "        text-align: right;\n",
       "    }\n",
       "\n",
       "    .dataframe thead th {\n",
       "        text-align: left;\n",
       "    }\n",
       "\n",
       "    .dataframe tbody tr th {\n",
       "        vertical-align: top;\n",
       "    }\n",
       "</style>\n",
       "<table border=\"1\" class=\"dataframe\">\n",
       "  <thead>\n",
       "    <tr style=\"text-align: right;\">\n",
       "      <th></th>\n",
       "      <th>u</th>\n",
       "      <th>d</th>\n",
       "      <th>s</th>\n",
       "      <th>i</th>\n",
       "      <th>phi_us</th>\n",
       "      <th>phi_ui</th>\n",
       "      <th>phi_ds</th>\n",
       "      <th>phi_di</th>\n",
       "    </tr>\n",
       "  </thead>\n",
       "  <tbody>\n",
       "    <tr>\n",
       "      <th>0</th>\n",
       "      <td>1.43706</td>\n",
       "      <td>0.695865</td>\n",
       "      <td>1.075</td>\n",
       "      <td>0.930233</td>\n",
       "      <td>NaN</td>\n",
       "      <td>NaN</td>\n",
       "      <td>NaN</td>\n",
       "      <td>NaN</td>\n",
       "    </tr>\n",
       "    <tr>\n",
       "      <th>1</th>\n",
       "      <td>1.43706</td>\n",
       "      <td>0.695865</td>\n",
       "      <td>1.085</td>\n",
       "      <td>0.921659</td>\n",
       "      <td>NaN</td>\n",
       "      <td>NaN</td>\n",
       "      <td>NaN</td>\n",
       "      <td>NaN</td>\n",
       "    </tr>\n",
       "    <tr>\n",
       "      <th>2</th>\n",
       "      <td>1.43706</td>\n",
       "      <td>0.695865</td>\n",
       "      <td>1.095</td>\n",
       "      <td>0.913242</td>\n",
       "      <td>NaN</td>\n",
       "      <td>NaN</td>\n",
       "      <td>NaN</td>\n",
       "      <td>NaN</td>\n",
       "    </tr>\n",
       "    <tr>\n",
       "      <th>3</th>\n",
       "      <td>1.43706</td>\n",
       "      <td>0.695865</td>\n",
       "      <td>1.105</td>\n",
       "      <td>0.904977</td>\n",
       "      <td>NaN</td>\n",
       "      <td>NaN</td>\n",
       "      <td>NaN</td>\n",
       "      <td>NaN</td>\n",
       "    </tr>\n",
       "    <tr>\n",
       "      <th>4</th>\n",
       "      <td>1.43706</td>\n",
       "      <td>0.695865</td>\n",
       "      <td>1.115</td>\n",
       "      <td>0.896861</td>\n",
       "      <td>NaN</td>\n",
       "      <td>NaN</td>\n",
       "      <td>NaN</td>\n",
       "      <td>NaN</td>\n",
       "    </tr>\n",
       "  </tbody>\n",
       "</table>\n",
       "</div>"
      ],
      "text/plain": [
       "         u         d      s         i phi_us phi_ui phi_ds phi_di\n",
       "0  1.43706  0.695865  1.075  0.930233    NaN    NaN    NaN    NaN\n",
       "1  1.43706  0.695865  1.085  0.921659    NaN    NaN    NaN    NaN\n",
       "2  1.43706  0.695865  1.095  0.913242    NaN    NaN    NaN    NaN\n",
       "3  1.43706  0.695865  1.105  0.904977    NaN    NaN    NaN    NaN\n",
       "4  1.43706  0.695865  1.115  0.896861    NaN    NaN    NaN    NaN"
      ]
     },
     "execution_count": 139,
     "metadata": {},
     "output_type": "execute_result"
    }
   ],
   "source": [
    "df.head()\n"
   ]
  },
  {
   "cell_type": "code",
   "execution_count": 107,
   "metadata": {},
   "outputs": [
    {
     "data": {
      "text/plain": [
       "(10000, 8)"
      ]
     },
     "execution_count": 107,
     "metadata": {},
     "output_type": "execute_result"
    }
   ],
   "source": [
    "df.shape"
   ]
  },
  {
   "cell_type": "code",
   "execution_count": 102,
   "metadata": {},
   "outputs": [
    {
     "data": {
      "text/plain": [
       "<matplotlib.legend.Legend at 0x230fa7e8a90>"
      ]
     },
     "execution_count": 102,
     "metadata": {},
     "output_type": "execute_result"
    },
    {
     "data": {
      "image/png": "[encoded data removed]",
      "text/plain": [
       "<matplotlib.figure.Figure at 0x230fa7e8278>"
      ]
     },
     "metadata": {},
     "output_type": "display_data"
    }
   ],
   "source": [
    "plt.plot(df.u,df[['phi_us','phi_ui']])\n",
    "plt.xlabel('u')\n",
    "plt.ylabel('phi_u')\n",
    "plt.legend(('phi_us','phi_ui'))\n"
   ]
  },
  {
   "cell_type": "code",
   "execution_count": 103,
   "metadata": {
    "scrolled": true
   },
   "outputs": [
    {
     "data": {
      "text/plain": [
       "<matplotlib.legend.Legend at 0x230fa712a58>"
      ]
     },
     "execution_count": 103,
     "metadata": {},
     "output_type": "execute_result"
    },
    {
     "data": {
      "image/png": "[encoded data removed]",
      "text/plain": [
       "<matplotlib.figure.Figure at 0x230fd8f7ac8>"
      ]
     },
     "metadata": {},
     "output_type": "display_data"
    }
   ],
   "source": [
    "plt.plot(df.d,df[['phi_ds','phi_di']])\n",
    "plt.xlabel('d')\n",
    "plt.ylabel('phi_d')\n",
    "plt.legend(('phi_ds','phi_di'))\n"
   ]
  },
  {
   "cell_type": "code",
   "execution_count": 140,
   "metadata": {},
   "outputs": [
    {
     "data": {
      "text/plain": [
       "<matplotlib.legend.Legend at 0x230fd9638d0>"
      ]
     },
     "execution_count": 140,
     "metadata": {},
     "output_type": "execute_result"
    },
    {
     "data": {
      "image/png": "[encoded data removed]",
      "text/plain": [
       "<matplotlib.figure.Figure at 0x230fd940780>"
      ]
     },
     "metadata": {},
     "output_type": "display_data"
    }
   ],
   "source": [
    "plt.plot(df.s,df[['phi_us','phi_ds']])\n",
    "plt.xlabel('s')\n",
    "plt.ylabel('phi_s')\n",
    "plt.legend(('phi_us','phi_ds'))"
   ]
  },
  {
   "cell_type": "code",
   "execution_count": 106,
   "metadata": {},
   "outputs": [
    {
     "data": {
      "text/plain": [
       "<matplotlib.legend.Legend at 0x230fdaccb70>"
      ]
     },
     "execution_count": 106,
     "metadata": {},
     "output_type": "execute_result"
    },
    {
     "data": {
      "image/png": "[encoded data removed]",
      "text/plain": [
       "<matplotlib.figure.Figure at 0x230fd970278>"
      ]
     },
     "metadata": {},
     "output_type": "display_data"
    }
   ],
   "source": [
    "plt.plot(df.s,df[['phi_ui','phi_di']])\n",
    "plt.xlabel('ins')\n",
    "plt.ylabel('phi_ins')\n",
    "plt.legend(('phi_ui','phi_di'))"
   ]
  },
  {
   "cell_type": "code",
   "execution_count": 132,
   "metadata": {
    "collapsed": true
   },
   "outputs": [],
   "source": []
  },
  {
   "cell_type": "code",
   "execution_count": null,
   "metadata": {
    "collapsed": true
   },
   "outputs": [],
   "source": []
  },
  {
   "cell_type": "code",
   "execution_count": 141,
   "metadata": {
    "collapsed": true
   },
   "outputs": [],
   "source": [
    "df.to_excel('df1.xls')"
   ]
  },
  {
   "cell_type": "code",
   "execution_count": null,
   "metadata": {},
   "outputs": [],
   "source": []
  },
  {
   "cell_type": "code",
   "execution_count": null,
   "metadata": {
    "collapsed": true
   },
   "outputs": [],
   "source": []
  },
  {
   "cell_type": "code",
   "execution_count": null,
   "metadata": {},
   "outputs": [],
   "source": []
  },
  {
   "cell_type": "code",
   "execution_count": null,
   "metadata": {},
   "outputs": [],
   "source": []
  },
  {
   "cell_type": "code",
   "execution_count": null,
   "metadata": {
    "collapsed": true
   },
   "outputs": [],
   "source": []
  },
  {
   "cell_type": "code",
   "execution_count": null,
   "metadata": {},
   "outputs": [],
   "source": []
  },
  {
   "cell_type": "code",
   "execution_count": null,
   "metadata": {
    "collapsed": true
   },
   "outputs": [],
   "source": []
  },
  {
   "cell_type": "code",
   "execution_count": null,
   "metadata": {
    "collapsed": true
   },
   "outputs": [],
   "source": []
  }
 ],
 "metadata": {
  "kernelspec": {
   "display_name": "Python 3",
   "language": "python",
   "name": "python3"
  },
  "language_info": {
   "codemirror_mode": {
    "name": "ipython",
    "version": 3
   },
   "file_extension": ".py",
   "mimetype": "text/x-python",
   "name": "python",
   "nbconvert_exporter": "python",
   "pygments_lexer": "ipython3",
   "version": "3.6.1"
  }
 },
 "nbformat": 4,
 "nbformat_minor": 2
}
